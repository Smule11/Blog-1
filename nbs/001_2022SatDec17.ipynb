{
 "cells": [
  {
   "attachments": {},
   "cell_type": "markdown",
   "metadata": {},
   "source": [
    "# Making a Blog"
   ]
  },
  {
   "attachments": {},
   "cell_type": "markdown",
   "metadata": {},
   "source": [
    "<font color=cyan> *Text in this colour are the actions I took* </font>\n",
    "\n",
    "-------------------------\n",
    "\n",
    "<font color=cyan>So I made this file in a folder on my computer, I named it \"makingABlog.ipynb\".</font>\n",
    "\n",
    "<font color=cyan>So I made this file in a folder on my computer, I then named it \"001_2022SatDec17.ipynb\" as the name controls the order of the blogs in the sidebar. The heading controls the name of each blog which shows in the sidebar.</font>\n",
    "\n",
    "This will become the first entry into my blog online. Each entry will be a jupyter notebook embedded into a HTML template.\n",
    "\n",
    "I will describe how I made the HTML template.\n",
    "\n",
    "I am following Bailey's blog https://baileyandrew.github.io/Blog/2022tuedec13.html.\n",
    "\n",
    "I am writing things down as I go.\n",
    "\n",
    "The point of this blog is\n",
    "- to practice public writing\n",
    "- to practice science communication\n",
    "- to summarise technical work I did\n",
    "- to summarise How To's such as this where I do something once which is not trivial and I want to record how for other people and for future reference.\n",
    "- for my CV\n",
    "- as a record of papers I've read\n",
    "- as a log of my thoughts\n",
    "- to inspire others to do the same and to create some sort of small, shallow community online of good intentioned people.\n",
    "\n",
    "<font color=cyan>Old, delete: I create an empty github repo online, with no readme file, named blog or something.</font>\n",
    "\n",
    "<font color=cyan>I'm created this notebook file you're reading, by creating a text file and renaming it, including changing the file extension.</font>\n",
    "\n",
    "To open and read this .ipynb file I am editing it in Visual Studio Code. A lot of people use Jupyter Notebook.\n",
    "\n",
    "I am also not using conda, I am just using the singular original python installation, and nothing more, with pip installs.\n",
    "\n",
    "<font color=cyan>I then forked Bailey's blog: https://github.com/BaileyAndrew/Blog to my github, creating a new repo. </font>\n",
    "\n",
    "<font color=cyan>I opened github desktop which is connected to my online github account, and chose to clone the online blog repo to a local folder on my computer. Here I can edit the blog files. </font>\n",
    "\n",
    "I closed github desktop, and can edit the files in VS code now. I realise I don't need Github Desktop and can just zip download the github repo manually, and then edit the notebook files in VS code straight away, and then use my VS code to push the changes back up to the online github repo.\n",
    "\n",
    "I could do another blog on setting up Github in VS code.\n",
    "\n",
    "<font color=cyan>I then deleted all the current blog .ipynb files in the Blog folder locally, and inserted this file into the nbs folder. I also should edit the main index file which is the home page. </font>\n",
    "\n",
    "<font color=cyan> </font>\n",
    "\n",
    "<font color=cyan> </font>"
   ]
  },
  {
   "cell_type": "markdown",
   "metadata": {},
   "source": []
  }
 ],
 "metadata": {
  "language_info": {
   "name": "python"
  },
  "orig_nbformat": 4
 },
 "nbformat": 4,
 "nbformat_minor": 2
}
